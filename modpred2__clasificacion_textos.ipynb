{
  "nbformat": 4,
  "nbformat_minor": 0,
  "metadata": {
    "colab": {
      "name": "modpred2__clasificacion_textos.ipynb",
      "provenance": [],
      "collapsed_sections": [],
      "toc_visible": true,
      "authorship_tag": "ABX9TyMinLuI7ffHhc6yhAQSBRQO",
      "include_colab_link": true
    },
    "kernelspec": {
      "name": "python3",
      "display_name": "Python 3"
    }
  },
  "cells": [
    {
      "cell_type": "markdown",
      "metadata": {
        "id": "view-in-github",
        "colab_type": "text"
      },
      "source": [
        "<a href=\"https://colab.research.google.com/github/jcmachicao/modpred_2/blob/main/modpred2__clasificacion_textos.ipynb\" target=\"_parent\"><img src=\"https://colab.research.google.com/assets/colab-badge.svg\" alt=\"Open In Colab\"/></a>"
      ]
    },
    {
      "cell_type": "markdown",
      "metadata": {
        "id": "PQbsUeesWwN4"
      },
      "source": [
        "#**02.03**\n",
        "#### Cuaderno 2, Ejercicio 3\n",
        "#### **Curso Modelamiento Predictivo**\n",
        "---\n",
        "# **Modelamiento Predictivo para Textos**\n",
        "* Autor: José Carlos Machicao\n",
        "* Licencia: [GestioDinámica](http://www.gestiodinamica.com) 2020"
      ]
    },
    {
      "cell_type": "code",
      "metadata": {
        "id": "uUtsxDY0bWYB"
      },
      "source": [
        "import pandas as pd\n",
        "import numpy as np\n",
        "import matplotlib.pyplot as plt"
      ],
      "execution_count": null,
      "outputs": []
    },
    {
      "cell_type": "code",
      "metadata": {
        "id": "44KN3aBvWphD",
        "colab": {
          "base_uri": "https://localhost:8080/"
        },
        "outputId": "ce10b8d9-00f9-4465-fb38-3d255b2387f0"
      },
      "source": [
        "import nltk\n",
        "nltk.download('punkt')\n",
        "from string import punctuation"
      ],
      "execution_count": null,
      "outputs": [
        {
          "output_type": "stream",
          "text": [
            "[nltk_data] Downloading package punkt to /root/nltk_data...\n",
            "[nltk_data]   Unzipping tokenizers/punkt.zip.\n"
          ],
          "name": "stdout"
        }
      ]
    },
    {
      "cell_type": "code",
      "metadata": {
        "id": "JnWVQuKvcJWQ"
      },
      "source": [
        "import gensim\n",
        "from gensim.models.doc2vec import Doc2Vec, TaggedDocument"
      ],
      "execution_count": null,
      "outputs": []
    },
    {
      "cell_type": "code",
      "metadata": {
        "id": "0xZ7GZBNczHJ"
      },
      "source": [
        "textos = [\n",
        "          ['daños', 'Entraron a la tienda y se llevaron todo lo que pudieron.'],\n",
        "          ['tecnología', 'Felizmente que estaban encendidas las cámaras y todo fue registrado, porque las habíamos instalado hace unos meses.'],\n",
        "          ['daños', 'La pérdida fue de más de dos millones de soles, porque se llevaron todo.'],\n",
        "          ['tecnología', 'Tenemos alarmas que están encendidas todo el día.'],\n",
        "          ['tecnología', 'Pudimos rastrear a los delincuentes porque tenemos sensores de movimientos violentos en casi todos los establecimientos'],\n",
        "          ['daños', 'Hubo al menos 300 víctimas, de las cuales lamentablemente fallecieron 4.'],\n",
        "          ['tecnología', 'Los patrulleros están preparados para terrenos difíciles y muchos de ellos tienen acondicionados servidores de análisis rápido.'],\n",
        "          ['riesgo', 'Las mafias están organizadas y comunicadas en varios departamentos, y se sabe que se brindan ayuda entre ellas.'],\n",
        "          ['riesgo', 'Hay datos acerca de cómo ha crecido la posibilidad de delincuencia en Trujillo porque los reportes son cada vez más frecuentes.'],\n",
        "          ['daños', 'El asalto de varias viviendas en el distrito ha dejado más de 20 familias prácticamente en la pobreza.'],\n",
        "          ['riesgo', 'El patrullaje es necesario porque reduce la presencia de criminales que pueden articularse en varios distritos.'],\n",
        "          ['riesgo', 'Si no se implementa un sistema de monitoreo no lograremos contrarrestar a las mafias organizadas que se incrementan.'],\n",
        "          ['tecnología', 'El sistema de monitoreo es imprescindible porque permite una cobertura amplia cuando se instala en todos los distritos.'],\n",
        "          ['riesgo', 'Aquí en Puno ha crecido la delincuencia porque los reportes son cada vez más frecuentes con mayor probabilidad.'],\n",
        "          ['daños', 'Las víctimas de agresiones en estos últimos años han tenido daños más remanentes.'],\n",
        "          ['tecnología', 'Los patrulleros están preparados para instalarse en el primer trimestre, para que estén operativos inmediatamente después.'],\n",
        "          ]\n",
        "tex_df = pd.DataFrame(textos)\n",
        "tex_df.columns = ['tipo', 'textos']"
      ],
      "execution_count": null,
      "outputs": []
    },
    {
      "cell_type": "code",
      "metadata": {
        "id": "6IjtCY40og48",
        "colab": {
          "base_uri": "https://localhost:8080/",
          "height": 197
        },
        "outputId": "a611f493-bc55-44a0-e5e7-448bb8ba6f9c"
      },
      "source": [
        "tex_df.head()"
      ],
      "execution_count": null,
      "outputs": [
        {
          "output_type": "execute_result",
          "data": {
            "text/html": [
              "<div>\n",
              "<style scoped>\n",
              "    .dataframe tbody tr th:only-of-type {\n",
              "        vertical-align: middle;\n",
              "    }\n",
              "\n",
              "    .dataframe tbody tr th {\n",
              "        vertical-align: top;\n",
              "    }\n",
              "\n",
              "    .dataframe thead th {\n",
              "        text-align: right;\n",
              "    }\n",
              "</style>\n",
              "<table border=\"1\" class=\"dataframe\">\n",
              "  <thead>\n",
              "    <tr style=\"text-align: right;\">\n",
              "      <th></th>\n",
              "      <th>tipo</th>\n",
              "      <th>textos</th>\n",
              "    </tr>\n",
              "  </thead>\n",
              "  <tbody>\n",
              "    <tr>\n",
              "      <th>0</th>\n",
              "      <td>daños</td>\n",
              "      <td>Entraron a la tienda y se llevaron todo lo que...</td>\n",
              "    </tr>\n",
              "    <tr>\n",
              "      <th>1</th>\n",
              "      <td>tecnología</td>\n",
              "      <td>Felizmente que estaban encendidas las cámaras ...</td>\n",
              "    </tr>\n",
              "    <tr>\n",
              "      <th>2</th>\n",
              "      <td>daños</td>\n",
              "      <td>La pérdida fue de más de dos millones de soles...</td>\n",
              "    </tr>\n",
              "    <tr>\n",
              "      <th>3</th>\n",
              "      <td>tecnología</td>\n",
              "      <td>Tenemos alarmas que están encendidas todo el día.</td>\n",
              "    </tr>\n",
              "    <tr>\n",
              "      <th>4</th>\n",
              "      <td>tecnología</td>\n",
              "      <td>Pudimos rastrear a los delincuentes porque ten...</td>\n",
              "    </tr>\n",
              "  </tbody>\n",
              "</table>\n",
              "</div>"
            ],
            "text/plain": [
              "         tipo                                             textos\n",
              "0       daños  Entraron a la tienda y se llevaron todo lo que...\n",
              "1  tecnología  Felizmente que estaban encendidas las cámaras ...\n",
              "2       daños  La pérdida fue de más de dos millones de soles...\n",
              "3  tecnología  Tenemos alarmas que están encendidas todo el día.\n",
              "4  tecnología  Pudimos rastrear a los delincuentes porque ten..."
            ]
          },
          "metadata": {
            "tags": []
          },
          "execution_count": 6
        }
      ]
    },
    {
      "cell_type": "code",
      "metadata": {
        "id": "JwNtHBV6cq39",
        "colab": {
          "base_uri": "https://localhost:8080/"
        },
        "outputId": "45ef7403-3e89-4d02-fea2-df845980407a"
      },
      "source": [
        "common_texts = tex_df.textos\n",
        "documents = [TaggedDocument(doc, [i]) for i, doc in enumerate(common_texts)]\n",
        "model = Doc2Vec(documents, vector_size=2, window=3, min_count=1, workers=4)\n",
        "model.train(documents, total_examples=model.corpus_count, epochs=60)\n",
        "vecs = []\n",
        "for j in range(len(documents)):\n",
        "  vecs.append(model.docvecs[j])\n",
        "vecs_arr = np.array(vecs)\n",
        "print(vecs_arr.shape)\n",
        "tex_df['v1'] = vecs_arr[:,0]\n",
        "tex_df['v2'] = vecs_arr[:,1]"
      ],
      "execution_count": null,
      "outputs": [
        {
          "output_type": "stream",
          "text": [
            "(16, 2)\n"
          ],
          "name": "stdout"
        }
      ]
    },
    {
      "cell_type": "code",
      "metadata": {
        "id": "K5wXb-d2hWBp",
        "colab": {
          "base_uri": "https://localhost:8080/",
          "height": 610
        },
        "outputId": "f2eddecd-df81-4bc4-814e-d8bfbfc5ca87"
      },
      "source": [
        "colores = {'tecnología': 'blue', 'daños': 'red', 'riesgo': 'green'}\n",
        "plt.figure(figsize=(10,10), facecolor='lightgray')\n",
        "plt.scatter(tex_df.v1, tex_df.v2, s=1)\n",
        "\n",
        "for k in range(len(tex_df)):\n",
        "  plt.text(tex_df.v1[k], tex_df.v2[k], \n",
        "           str(k) + ' ' + tex_df.tipo[k], \n",
        "           c=tex_df['tipo'].map(colores)[k],\n",
        "           fontsize=14\n",
        "           )\n",
        "plt.plot()"
      ],
      "execution_count": null,
      "outputs": [
        {
          "output_type": "execute_result",
          "data": {
            "text/plain": [
              "[]"
            ]
          },
          "metadata": {
            "tags": []
          },
          "execution_count": 55
        },
        {
          "output_type": "display_data",
          "data": {
            "image/png": "[encoded data removed]",
            "text/plain": [
              "<Figure size 720x720 with 1 Axes>"
            ]
          },
          "metadata": {
            "tags": []
          }
        }
      ]
    },
    {
      "cell_type": "markdown",
      "metadata": {
        "id": "XcQFaDbqYkPO"
      },
      "source": [
        "# Clasificación con Gaussian Naive-Bayes"
      ]
    },
    {
      "cell_type": "code",
      "metadata": {
        "colab": {
          "base_uri": "https://localhost:8080/",
          "height": 197
        },
        "id": "A72_xVY_a8CC",
        "outputId": "0a05d0ec-8ba7-4391-c080-d885267aece5"
      },
      "source": [
        "tex_df.head()"
      ],
      "execution_count": null,
      "outputs": [
        {
          "output_type": "execute_result",
          "data": {
            "text/html": [
              "<div>\n",
              "<style scoped>\n",
              "    .dataframe tbody tr th:only-of-type {\n",
              "        vertical-align: middle;\n",
              "    }\n",
              "\n",
              "    .dataframe tbody tr th {\n",
              "        vertical-align: top;\n",
              "    }\n",
              "\n",
              "    .dataframe thead th {\n",
              "        text-align: right;\n",
              "    }\n",
              "</style>\n",
              "<table border=\"1\" class=\"dataframe\">\n",
              "  <thead>\n",
              "    <tr style=\"text-align: right;\">\n",
              "      <th></th>\n",
              "      <th>tipo</th>\n",
              "      <th>textos</th>\n",
              "      <th>v1</th>\n",
              "      <th>v2</th>\n",
              "    </tr>\n",
              "  </thead>\n",
              "  <tbody>\n",
              "    <tr>\n",
              "      <th>0</th>\n",
              "      <td>daños</td>\n",
              "      <td>Entraron a la tienda y se llevaron todo lo que...</td>\n",
              "      <td>-0.522241</td>\n",
              "      <td>-1.221504</td>\n",
              "    </tr>\n",
              "    <tr>\n",
              "      <th>1</th>\n",
              "      <td>tecnología</td>\n",
              "      <td>Felizmente que estaban encendidas las cámaras ...</td>\n",
              "      <td>1.550811</td>\n",
              "      <td>-1.714474</td>\n",
              "    </tr>\n",
              "    <tr>\n",
              "      <th>2</th>\n",
              "      <td>daños</td>\n",
              "      <td>La pérdida fue de más de dos millones de soles...</td>\n",
              "      <td>-1.391744</td>\n",
              "      <td>-1.446743</td>\n",
              "    </tr>\n",
              "    <tr>\n",
              "      <th>3</th>\n",
              "      <td>tecnología</td>\n",
              "      <td>Tenemos alarmas que están encendidas todo el día.</td>\n",
              "      <td>0.023029</td>\n",
              "      <td>-1.365300</td>\n",
              "    </tr>\n",
              "    <tr>\n",
              "      <th>4</th>\n",
              "      <td>tecnología</td>\n",
              "      <td>Pudimos rastrear a los delincuentes porque ten...</td>\n",
              "      <td>-0.117399</td>\n",
              "      <td>-0.964872</td>\n",
              "    </tr>\n",
              "  </tbody>\n",
              "</table>\n",
              "</div>"
            ],
            "text/plain": [
              "         tipo  ...        v2\n",
              "0       daños  ... -1.221504\n",
              "1  tecnología  ... -1.714474\n",
              "2       daños  ... -1.446743\n",
              "3  tecnología  ... -1.365300\n",
              "4  tecnología  ... -0.964872\n",
              "\n",
              "[5 rows x 4 columns]"
            ]
          },
          "metadata": {
            "tags": []
          },
          "execution_count": 23
        }
      ]
    },
    {
      "cell_type": "code",
      "metadata": {
        "colab": {
          "base_uri": "https://localhost:8080/",
          "height": 137
        },
        "id": "Fwc_oK-VSlqP",
        "outputId": "270c6282-1c35-434f-dddd-7bf99a5222d7"
      },
      "source": [
        "X = tex_df[['v1', 'v2']]\r\n",
        "X[0:3]"
      ],
      "execution_count": null,
      "outputs": [
        {
          "output_type": "execute_result",
          "data": {
            "text/html": [
              "<div>\n",
              "<style scoped>\n",
              "    .dataframe tbody tr th:only-of-type {\n",
              "        vertical-align: middle;\n",
              "    }\n",
              "\n",
              "    .dataframe tbody tr th {\n",
              "        vertical-align: top;\n",
              "    }\n",
              "\n",
              "    .dataframe thead th {\n",
              "        text-align: right;\n",
              "    }\n",
              "</style>\n",
              "<table border=\"1\" class=\"dataframe\">\n",
              "  <thead>\n",
              "    <tr style=\"text-align: right;\">\n",
              "      <th></th>\n",
              "      <th>v1</th>\n",
              "      <th>v2</th>\n",
              "    </tr>\n",
              "  </thead>\n",
              "  <tbody>\n",
              "    <tr>\n",
              "      <th>0</th>\n",
              "      <td>-0.522241</td>\n",
              "      <td>-1.221504</td>\n",
              "    </tr>\n",
              "    <tr>\n",
              "      <th>1</th>\n",
              "      <td>1.550811</td>\n",
              "      <td>-1.714474</td>\n",
              "    </tr>\n",
              "    <tr>\n",
              "      <th>2</th>\n",
              "      <td>-1.391744</td>\n",
              "      <td>-1.446743</td>\n",
              "    </tr>\n",
              "  </tbody>\n",
              "</table>\n",
              "</div>"
            ],
            "text/plain": [
              "         v1        v2\n",
              "0 -0.522241 -1.221504\n",
              "1  1.550811 -1.714474\n",
              "2 -1.391744 -1.446743"
            ]
          },
          "metadata": {
            "tags": []
          },
          "execution_count": 25
        }
      ]
    },
    {
      "cell_type": "code",
      "metadata": {
        "id": "unYrfFSxSwW6"
      },
      "source": [
        "factores = pd.factorize(tex_df.tipo)\r\n",
        "y = factores[0]\r\n",
        "rotulos = factores[1]"
      ],
      "execution_count": null,
      "outputs": []
    },
    {
      "cell_type": "code",
      "metadata": {
        "colab": {
          "base_uri": "https://localhost:8080/"
        },
        "id": "0ETNEK4GTqHQ",
        "outputId": "ee65facd-0ac4-44ac-fcd1-db68d84e2ec1"
      },
      "source": [
        "y"
      ],
      "execution_count": null,
      "outputs": [
        {
          "output_type": "execute_result",
          "data": {
            "text/plain": [
              "array([0, 1, 0, 1, 1, 0, 1, 2, 2, 0, 2, 2, 1, 2, 0, 1])"
            ]
          },
          "metadata": {
            "tags": []
          },
          "execution_count": 27
        }
      ]
    },
    {
      "cell_type": "code",
      "metadata": {
        "id": "1Y5yTFrebCDK"
      },
      "source": [
        "from sklearn.naive_bayes import MultinomialNB, GaussianNB\r\n",
        "from sklearn.metrics import confusion_matrix, classification_report, plot_confusion_matrix\r\n",
        "clf = GaussianNB()\r\n",
        "clf.fit(X, tex_df.tipo)\r\n",
        "y_pred = clf.predict(X)"
      ],
      "execution_count": null,
      "outputs": []
    },
    {
      "cell_type": "code",
      "metadata": {
        "colab": {
          "base_uri": "https://localhost:8080/"
        },
        "id": "6d2Y9dyeWXUU",
        "outputId": "cf40090a-508d-4e4d-b6c0-df1c8839f7a3"
      },
      "source": [
        "y_pred"
      ],
      "execution_count": null,
      "outputs": [
        {
          "output_type": "execute_result",
          "data": {
            "text/plain": [
              "array(['tecnología', 'daños', 'tecnología', 'riesgo', 'tecnología',\n",
              "       'daños', 'tecnología', 'daños', 'riesgo', 'riesgo', 'tecnología',\n",
              "       'tecnología', 'tecnología', 'riesgo', 'daños', 'tecnología'],\n",
              "      dtype='<U10')"
            ]
          },
          "metadata": {
            "tags": []
          },
          "execution_count": 47
        }
      ]
    },
    {
      "cell_type": "code",
      "metadata": {
        "colab": {
          "base_uri": "https://localhost:8080/"
        },
        "id": "fL_xzA0KVk9i",
        "outputId": "d95c37e4-aa3c-4812-8b1e-ed639d9f90af"
      },
      "source": [
        "list(rotulos)"
      ],
      "execution_count": null,
      "outputs": [
        {
          "output_type": "execute_result",
          "data": {
            "text/plain": [
              "['daños', 'tecnología', 'riesgo']"
            ]
          },
          "metadata": {
            "tags": []
          },
          "execution_count": 48
        }
      ]
    },
    {
      "cell_type": "code",
      "metadata": {
        "colab": {
          "base_uri": "https://localhost:8080/"
        },
        "id": "kyYJxND4UfIr",
        "outputId": "284c64dd-6b47-44d0-96f6-921c9ca63141"
      },
      "source": [
        "print(confusion_matrix(tex_df.tipo, y_pred, labels=list(rotulos)))"
      ],
      "execution_count": null,
      "outputs": [
        {
          "output_type": "stream",
          "text": [
            "[[2 2 1]\n",
            " [1 4 1]\n",
            " [1 2 2]]\n"
          ],
          "name": "stdout"
        }
      ]
    },
    {
      "cell_type": "code",
      "metadata": {
        "colab": {
          "base_uri": "https://localhost:8080/",
          "height": 475
        },
        "id": "zTmrYw6h-eKe",
        "outputId": "5c918dfd-c959-482a-b29d-db585210e4fe"
      },
      "source": [
        "fig, ax = plt.subplots(figsize=(8,8), facecolor='white')\r\n",
        "plot_confusion_matrix(clf, X, tex_df.tipo, ax=ax)\r\n",
        "plt.show()"
      ],
      "execution_count": null,
      "outputs": [
        {
          "output_type": "display_data",
          "data": {
            "image/png": "[encoded data removed]",
            "text/plain": [
              "<Figure size 576x576 with 2 Axes>"
            ]
          },
          "metadata": {
            "tags": []
          }
        }
      ]
    },
    {
      "cell_type": "code",
      "metadata": {
        "colab": {
          "base_uri": "https://localhost:8080/"
        },
        "id": "IoOMQ-PCUmfk",
        "outputId": "883668a6-5d27-49ba-df81-52540ca1bd2d"
      },
      "source": [
        "print(classification_report(tex_df.tipo, y_pred, labels=list(rotulos)))"
      ],
      "execution_count": null,
      "outputs": [
        {
          "output_type": "stream",
          "text": [
            "              precision    recall  f1-score   support\n",
            "\n",
            "       daños       0.50      0.40      0.44         5\n",
            "  tecnología       0.50      0.67      0.57         6\n",
            "      riesgo       0.50      0.40      0.44         5\n",
            "\n",
            "    accuracy                           0.50        16\n",
            "   macro avg       0.50      0.49      0.49        16\n",
            "weighted avg       0.50      0.50      0.49        16\n",
            "\n"
          ],
          "name": "stdout"
        }
      ]
    },
    {
      "cell_type": "code",
      "metadata": {
        "id": "i3ZxXS0r5GFP"
      },
      "source": [
        ""
      ],
      "execution_count": null,
      "outputs": []
    },
    {
      "cell_type": "markdown",
      "metadata": {
        "id": "iaXnPsUV5HPg"
      },
      "source": [
        "# Referencias\r\n",
        "\r\n",
        "https://scikit-learn.org/stable/modules/naive_bayes.html"
      ]
    }
  ]
}