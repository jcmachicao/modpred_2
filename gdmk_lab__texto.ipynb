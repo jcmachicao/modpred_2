{
  "nbformat": 4,
  "nbformat_minor": 0,
  "metadata": {
    "colab": {
      "name": "gdmk_lab__texto.ipynb",
      "provenance": [],
      "authorship_tag": "ABX9TyMG9zSWzgorg/6o+kEkXta/",
      "include_colab_link": true
    },
    "kernelspec": {
      "name": "python3",
      "display_name": "Python 3"
    }
  },
  "cells": [
    {
      "cell_type": "markdown",
      "metadata": {
        "id": "view-in-github",
        "colab_type": "text"
      },
      "source": [
        "<a href=\"https://colab.research.google.com/github/jcmachicao/modpred_2/blob/main/gdmk_lab__texto.ipynb\" target=\"_parent\"><img src=\"https://colab.research.google.com/assets/colab-badge.svg\" alt=\"Open In Colab\"/></a>"
      ]
    },
    {
      "cell_type": "code",
      "metadata": {
        "id": "UBqCcSUQIPAX"
      },
      "source": [
        "!python -m spacy download es_core_news_sm"
      ],
      "execution_count": null,
      "outputs": []
    },
    {
      "cell_type": "code",
      "metadata": {
        "id": "i7tVSh4g-55f"
      },
      "source": [
        "!pip install apex"
      ],
      "execution_count": null,
      "outputs": []
    },
    {
      "cell_type": "code",
      "metadata": {
        "id": "2puNYwTdG_jc"
      },
      "source": [
        "import pandas as pd\r\n",
        "import matplotlib.pyplot as plt"
      ],
      "execution_count": 1,
      "outputs": []
    },
    {
      "cell_type": "code",
      "metadata": {
        "id": "oaR1ewo-H38q"
      },
      "source": [
        "import spacy\r\n",
        "import es_core_news_sm\r\n",
        "nlp = es_core_news_sm.load()\r\n",
        "import re"
      ],
      "execution_count": 2,
      "outputs": []
    },
    {
      "cell_type": "code",
      "metadata": {
        "id": "9RWxarAgHhAB"
      },
      "source": [
        "f = open('reporte_ejemplo.txt', 'r')\r\n",
        "texto = f.read()"
      ],
      "execution_count": 3,
      "outputs": []
    },
    {
      "cell_type": "code",
      "metadata": {
        "colab": {
          "base_uri": "https://localhost:8080/",
          "height": 160
        },
        "id": "OmN09F8aJeRl",
        "outputId": "6a7e09c5-2a04-4df3-dfb7-08ed5b7aec84"
      },
      "source": [
        "texto"
      ],
      "execution_count": 17,
      "outputs": [
        {
          "output_type": "execute_result",
          "data": {
            "application/vnd.google.colaboratory.intrinsic+json": {
              "type": "string"
            },
            "text/plain": [
              "'Un obrero de construcción, identificado como Junior Leiva Vallejos, fue atacado a balazos por dos sujetos en motocicleta cuando se encontraba trabajando en una obra que se ejecuta en el cruce de las calles Arequipa y Santa Cruz, en Chorrillos. ATV señaló que los atacantes llevaban puestas prendas similares a los que usan los obreros. El herido fue auxiliado por sus compañeros y trasladado a un hospital. En el informe periodístico se indicó que los agentes de la comisaría de Villa, en Chorrillos, manejan la hipótesis de los sujetos intentaron robar al hombre sus pertenencias, pero que este opuso resistencia, por lo que fue baleado. Por su parte, Canal N señaló que los criminales dispararon en cuatro oportunidades a Leiva Vallejos, pero solo uno le impactó en el abdomen. Pese a estar herido, pudo avanzar unos metros y solicitar ayuda. Además, remarcó que el ataque sería producto de un enfrentamiento entre bandos de construcción civil por las obras de agua y desagüe que se realizan en la zona.'"
            ]
          },
          "metadata": {
            "tags": []
          },
          "execution_count": 17
        }
      ]
    },
    {
      "cell_type": "code",
      "metadata": {
        "id": "H4XxRSqFH3Oc"
      },
      "source": [
        "doc = nlp(texto)"
      ],
      "execution_count": 18,
      "outputs": []
    },
    {
      "cell_type": "code",
      "metadata": {
        "id": "ofeySp19Joi0",
        "colab": {
          "base_uri": "https://localhost:8080/"
        },
        "outputId": "44ca3517-36f5-44f7-a046-849d653dcf3b"
      },
      "source": [
        "for token in doc:\r\n",
        "  if 'X' in token.shape_:\r\n",
        "    print(token.text, end=' * ')"
      ],
      "execution_count": 21,
      "outputs": [
        {
          "output_type": "stream",
          "text": [
            "Un * Junior * Leiva * Vallejos * Arequipa * Santa * Cruz * Chorrillos * ATV * El * En * Villa * Chorrillos * Por * Canal * N * Leiva * Vallejos * Pese * Además * "
          ],
          "name": "stdout"
        }
      ]
    },
    {
      "cell_type": "code",
      "metadata": {
        "id": "Wfhxxzhrp4c6"
      },
      "source": [
        "from spacy import displacy"
      ],
      "execution_count": 7,
      "outputs": []
    },
    {
      "cell_type": "code",
      "metadata": {
        "colab": {
          "base_uri": "https://localhost:8080/",
          "height": 257
        },
        "id": "Omvco802p-rD",
        "outputId": "c3844573-87a0-4b07-ee2c-6f22b5df15f0"
      },
      "source": [
        "displacy.render(doc, style='ent', jupyter=True, options={'distance': 140})"
      ],
      "execution_count": 8,
      "outputs": [
        {
          "output_type": "display_data",
          "data": {
            "text/html": [
              "<span class=\"tex2jax_ignore\"><div class=\"entities\" style=\"line-height: 2.5; direction: ltr\">Un obrero de construcción, identificado como \n",
              "<mark class=\"entity\" style=\"background: #7aecec; padding: 0.45em 0.6em; margin: 0 0.25em; line-height: 1; border-radius: 0.35em;\">\n",
              "    Junior Leiva Vallejos\n",
              "    <span style=\"font-size: 0.8em; font-weight: bold; line-height: 1; border-radius: 0.35em; text-transform: uppercase; vertical-align: middle; margin-left: 0.5rem\">ORG</span>\n",
              "</mark>\n",
              ", fue atacado a balazos por dos sujetos en motocicleta cuando se encontraba trabajando en una obra que se ejecuta en el cruce de las calles \n",
              "<mark class=\"entity\" style=\"background: #ff9561; padding: 0.45em 0.6em; margin: 0 0.25em; line-height: 1; border-radius: 0.35em;\">\n",
              "    Arequipa\n",
              "    <span style=\"font-size: 0.8em; font-weight: bold; line-height: 1; border-radius: 0.35em; text-transform: uppercase; vertical-align: middle; margin-left: 0.5rem\">LOC</span>\n",
              "</mark>\n",
              " y \n",
              "<mark class=\"entity\" style=\"background: #ff9561; padding: 0.45em 0.6em; margin: 0 0.25em; line-height: 1; border-radius: 0.35em;\">\n",
              "    Santa Cruz\n",
              "    <span style=\"font-size: 0.8em; font-weight: bold; line-height: 1; border-radius: 0.35em; text-transform: uppercase; vertical-align: middle; margin-left: 0.5rem\">LOC</span>\n",
              "</mark>\n",
              ", en \n",
              "<mark class=\"entity\" style=\"background: #ff9561; padding: 0.45em 0.6em; margin: 0 0.25em; line-height: 1; border-radius: 0.35em;\">\n",
              "    Chorrillos\n",
              "    <span style=\"font-size: 0.8em; font-weight: bold; line-height: 1; border-radius: 0.35em; text-transform: uppercase; vertical-align: middle; margin-left: 0.5rem\">LOC</span>\n",
              "</mark>\n",
              ". \n",
              "<mark class=\"entity\" style=\"background: #ddd; padding: 0.45em 0.6em; margin: 0 0.25em; line-height: 1; border-radius: 0.35em;\">\n",
              "    ATV\n",
              "    <span style=\"font-size: 0.8em; font-weight: bold; line-height: 1; border-radius: 0.35em; text-transform: uppercase; vertical-align: middle; margin-left: 0.5rem\">MISC</span>\n",
              "</mark>\n",
              " señaló que los atacantes llevaban puestas prendas similares a los que usan los obreros. \n",
              "<mark class=\"entity\" style=\"background: #ddd; padding: 0.45em 0.6em; margin: 0 0.25em; line-height: 1; border-radius: 0.35em;\">\n",
              "    El herido\n",
              "    <span style=\"font-size: 0.8em; font-weight: bold; line-height: 1; border-radius: 0.35em; text-transform: uppercase; vertical-align: middle; margin-left: 0.5rem\">MISC</span>\n",
              "</mark>\n",
              " fue auxiliado por sus compañeros y trasladado a un hospital. \n",
              "<mark class=\"entity\" style=\"background: #ddd; padding: 0.45em 0.6em; margin: 0 0.25em; line-height: 1; border-radius: 0.35em;\">\n",
              "    En el informe periodístico\n",
              "    <span style=\"font-size: 0.8em; font-weight: bold; line-height: 1; border-radius: 0.35em; text-transform: uppercase; vertical-align: middle; margin-left: 0.5rem\">MISC</span>\n",
              "</mark>\n",
              " se indicó que los agentes de la comisaría de \n",
              "<mark class=\"entity\" style=\"background: #ddd; padding: 0.45em 0.6em; margin: 0 0.25em; line-height: 1; border-radius: 0.35em;\">\n",
              "    Villa\n",
              "    <span style=\"font-size: 0.8em; font-weight: bold; line-height: 1; border-radius: 0.35em; text-transform: uppercase; vertical-align: middle; margin-left: 0.5rem\">PER</span>\n",
              "</mark>\n",
              ", en \n",
              "<mark class=\"entity\" style=\"background: #ff9561; padding: 0.45em 0.6em; margin: 0 0.25em; line-height: 1; border-radius: 0.35em;\">\n",
              "    Chorrillos\n",
              "    <span style=\"font-size: 0.8em; font-weight: bold; line-height: 1; border-radius: 0.35em; text-transform: uppercase; vertical-align: middle; margin-left: 0.5rem\">LOC</span>\n",
              "</mark>\n",
              ", manejan la hipótesis de los sujetos intentaron robar al hombre sus pertenencias, pero que este opuso resistencia, por lo que fue baleado. \n",
              "<mark class=\"entity\" style=\"background: #ddd; padding: 0.45em 0.6em; margin: 0 0.25em; line-height: 1; border-radius: 0.35em;\">\n",
              "    Por su parte\n",
              "    <span style=\"font-size: 0.8em; font-weight: bold; line-height: 1; border-radius: 0.35em; text-transform: uppercase; vertical-align: middle; margin-left: 0.5rem\">MISC</span>\n",
              "</mark>\n",
              ", \n",
              "<mark class=\"entity\" style=\"background: #ff9561; padding: 0.45em 0.6em; margin: 0 0.25em; line-height: 1; border-radius: 0.35em;\">\n",
              "    Canal N\n",
              "    <span style=\"font-size: 0.8em; font-weight: bold; line-height: 1; border-radius: 0.35em; text-transform: uppercase; vertical-align: middle; margin-left: 0.5rem\">LOC</span>\n",
              "</mark>\n",
              " señaló que los criminales dispararon en cuatro oportunidades a \n",
              "<mark class=\"entity\" style=\"background: #7aecec; padding: 0.45em 0.6em; margin: 0 0.25em; line-height: 1; border-radius: 0.35em;\">\n",
              "    Leiva Vallejos\n",
              "    <span style=\"font-size: 0.8em; font-weight: bold; line-height: 1; border-radius: 0.35em; text-transform: uppercase; vertical-align: middle; margin-left: 0.5rem\">ORG</span>\n",
              "</mark>\n",
              ", pero solo uno le impactó en el abdomen. Pese a estar herido, pudo avanzar unos metros y solicitar ayuda. \n",
              "<mark class=\"entity\" style=\"background: #ff9561; padding: 0.45em 0.6em; margin: 0 0.25em; line-height: 1; border-radius: 0.35em;\">\n",
              "    Además\n",
              "    <span style=\"font-size: 0.8em; font-weight: bold; line-height: 1; border-radius: 0.35em; text-transform: uppercase; vertical-align: middle; margin-left: 0.5rem\">LOC</span>\n",
              "</mark>\n",
              ", remarcó que el ataque sería producto de un enfrentamiento entre bandos de construcción civil por las obras de agua y desagüe que se realizan en la zona.</div></span>"
            ],
            "text/plain": [
              "<IPython.core.display.HTML object>"
            ]
          },
          "metadata": {
            "tags": []
          }
        }
      ]
    },
    {
      "cell_type": "code",
      "metadata": {
        "id": "uYNppZrx9oOF"
      },
      "source": [
        "frase = nlp('El herido fue auxiliado por sus compañeros y trasladado a un hospital.')\r\n",
        "extractos = []\r\n",
        "HORIZ_SIM = 0.4\r\n",
        "for token1 in frase:\r\n",
        "  for token2 in frase:\r\n",
        "    sim = token1.similarity(token2)\r\n",
        "    if sim > HORIZ_SIM and sim < 1:\r\n",
        "      extractos.append([token1.text, token2.text, sim])"
      ],
      "execution_count": null,
      "outputs": []
    },
    {
      "cell_type": "code",
      "metadata": {
        "colab": {
          "base_uri": "https://localhost:8080/"
        },
        "id": "iLpk25hf_kb0",
        "outputId": "71d83e4b-90f9-4099-ce8b-aa61fcc2ac94"
      },
      "source": [
        "extractos"
      ],
      "execution_count": 13,
      "outputs": [
        {
          "output_type": "execute_result",
          "data": {
            "text/plain": [
              "[['El', 'un', 0.47765213],\n",
              " ['herido', 'trasladado', 0.47426662],\n",
              " ['herido', 'hospital', 0.5323005],\n",
              " ['auxiliado', 'trasladado', 0.549143],\n",
              " ['por', 'a', 0.5603182],\n",
              " ['trasladado', 'herido', 0.47426662],\n",
              " ['trasladado', 'auxiliado', 0.549143],\n",
              " ['a', 'por', 0.5603182],\n",
              " ['un', 'El', 0.47765213],\n",
              " ['hospital', 'herido', 0.5323005]]"
            ]
          },
          "metadata": {
            "tags": []
          },
          "execution_count": 13
        }
      ]
    }
  ]
}