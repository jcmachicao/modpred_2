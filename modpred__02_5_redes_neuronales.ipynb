{
  "nbformat": 4,
  "nbformat_minor": 0,
  "metadata": {
    "colab": {
      "name": "modpred__02_5_redes_neuronales.ipynb",
      "provenance": [],
      "mount_file_id": "1Y6bm_JM5aZ69KCM6j4sBO7F2GG5CsLd5",
      "authorship_tag": "ABX9TyPnNgrOhJYpT9XLOaqI5Uj5",
      "include_colab_link": true
    },
    "kernelspec": {
      "name": "python3",
      "display_name": "Python 3"
    },
    "accelerator": "GPU"
  },
  "cells": [
    {
      "cell_type": "markdown",
      "metadata": {
        "id": "view-in-github",
        "colab_type": "text"
      },
      "source": [
        "<a href=\"https://colab.research.google.com/github/jcmachicao/modpred_2/blob/main/modpred__02_5_redes_neuronales.ipynb\" target=\"_parent\"><img src=\"https://colab.research.google.com/assets/colab-badge.svg\" alt=\"Open In Colab\"/></a>"
      ]
    },
    {
      "cell_type": "markdown",
      "metadata": {
        "id": "y-0NM5pn3Kyo"
      },
      "source": [
        "# #**2.5**\n",
        "#### Cuaderno 2, Ejercicio 5\n",
        "#### **Curso Modelamiento Predictivo**\n",
        "---\n",
        "# **Introducción a Redes Neuronales**\n",
        "* Autor: José Carlos Machicao\n",
        "* Licencia: [GestioDinámica](http://www.gestiodinamica.com) 2020"
      ]
    },
    {
      "cell_type": "markdown",
      "metadata": {
        "id": "G4luqjK73TUj"
      },
      "source": [
        "[Tensorflow Playground](https://playground.tensorflow.org)"
      ]
    },
    {
      "cell_type": "code",
      "metadata": {
        "id": "wk9oQvf8YuqM"
      },
      "source": [
        "import torch\n",
        "import torch.nn as nn\n",
        "import pandas as pd\n",
        "import numpy as np\n",
        "import sklearn\n",
        "import matplotlib.pyplot as plt "
      ],
      "execution_count": 1,
      "outputs": []
    },
    {
      "cell_type": "code",
      "metadata": {
        "id": "LB2Q7Gqexi0x"
      },
      "source": [
        "from sklearn.preprocessing import MinMaxScaler"
      ],
      "execution_count": 2,
      "outputs": []
    },
    {
      "cell_type": "code",
      "metadata": {
        "id": "YZdtPvFwZluh"
      },
      "source": [
        "ruta = 'drive/My Drive/2020 data/'"
      ],
      "execution_count": 3,
      "outputs": []
    },
    {
      "cell_type": "code",
      "metadata": {
        "id": "nd37Ij5MZK8C",
        "colab": {
          "base_uri": "https://localhost:8080/",
          "height": 197
        },
        "outputId": "29b2968a-1d70-4da1-f167-f5bc8adc214a"
      },
      "source": [
        "dataset = pd.read_excel(ruta + 'ActosViolentos.xlsx')\n",
        "dataset.head()"
      ],
      "execution_count": 4,
      "outputs": [
        {
          "output_type": "execute_result",
          "data": {
            "text/html": [
              "<div>\n",
              "<style scoped>\n",
              "    .dataframe tbody tr th:only-of-type {\n",
              "        vertical-align: middle;\n",
              "    }\n",
              "\n",
              "    .dataframe tbody tr th {\n",
              "        vertical-align: top;\n",
              "    }\n",
              "\n",
              "    .dataframe thead th {\n",
              "        text-align: right;\n",
              "    }\n",
              "</style>\n",
              "<table border=\"1\" class=\"dataframe\">\n",
              "  <thead>\n",
              "    <tr style=\"text-align: right;\">\n",
              "      <th></th>\n",
              "      <th>Edad</th>\n",
              "      <th>Hora</th>\n",
              "      <th>Sexo</th>\n",
              "      <th>Area</th>\n",
              "      <th>Ingreso</th>\n",
              "      <th>Violento</th>\n",
              "    </tr>\n",
              "  </thead>\n",
              "  <tbody>\n",
              "    <tr>\n",
              "      <th>0</th>\n",
              "      <td>Niño</td>\n",
              "      <td>17</td>\n",
              "      <td>M</td>\n",
              "      <td>A1</td>\n",
              "      <td>2</td>\n",
              "      <td>No Violento</td>\n",
              "    </tr>\n",
              "    <tr>\n",
              "      <th>1</th>\n",
              "      <td>Niño</td>\n",
              "      <td>3</td>\n",
              "      <td>F</td>\n",
              "      <td>A3</td>\n",
              "      <td>4</td>\n",
              "      <td>No Violento</td>\n",
              "    </tr>\n",
              "    <tr>\n",
              "      <th>2</th>\n",
              "      <td>Niño</td>\n",
              "      <td>19</td>\n",
              "      <td>F</td>\n",
              "      <td>A1</td>\n",
              "      <td>3</td>\n",
              "      <td>No Violento</td>\n",
              "    </tr>\n",
              "    <tr>\n",
              "      <th>3</th>\n",
              "      <td>Niño</td>\n",
              "      <td>23</td>\n",
              "      <td>M</td>\n",
              "      <td>A1</td>\n",
              "      <td>2</td>\n",
              "      <td>No Violento</td>\n",
              "    </tr>\n",
              "    <tr>\n",
              "      <th>4</th>\n",
              "      <td>Niño</td>\n",
              "      <td>7</td>\n",
              "      <td>F</td>\n",
              "      <td>A2</td>\n",
              "      <td>5</td>\n",
              "      <td>Violento</td>\n",
              "    </tr>\n",
              "  </tbody>\n",
              "</table>\n",
              "</div>"
            ],
            "text/plain": [
              "   Edad  Hora Sexo Area  Ingreso     Violento\n",
              "0  Niño    17    M   A1        2  No Violento\n",
              "1  Niño     3    F   A3        4  No Violento\n",
              "2  Niño    19    F   A1        3  No Violento\n",
              "3  Niño    23    M   A1        2  No Violento\n",
              "4  Niño     7    F   A2        5     Violento"
            ]
          },
          "metadata": {
            "tags": []
          },
          "execution_count": 4
        }
      ]
    },
    {
      "cell_type": "code",
      "metadata": {
        "colab": {
          "base_uri": "https://localhost:8080/"
        },
        "id": "Wf8H94hGxGBx",
        "outputId": "dc5d3f0b-ad40-454b-a81f-056319e7657c"
      },
      "source": [
        "dataset.info()"
      ],
      "execution_count": 8,
      "outputs": [
        {
          "output_type": "stream",
          "text": [
            "<class 'pandas.core.frame.DataFrame'>\n",
            "RangeIndex: 900 entries, 0 to 899\n",
            "Data columns (total 6 columns):\n",
            " #   Column    Non-Null Count  Dtype \n",
            "---  ------    --------------  ----- \n",
            " 0   Edad      900 non-null    object\n",
            " 1   Hora      900 non-null    int64 \n",
            " 2   Sexo      900 non-null    object\n",
            " 3   Area      900 non-null    object\n",
            " 4   Ingreso   900 non-null    int64 \n",
            " 5   Violento  900 non-null    object\n",
            "dtypes: int64(2), object(4)\n",
            "memory usage: 42.3+ KB\n"
          ],
          "name": "stdout"
        }
      ]
    },
    {
      "cell_type": "code",
      "metadata": {
        "id": "IE_WhWJRx_s0"
      },
      "source": [
        "cat_var = ['Edad', 'Sexo', 'Area']\r\n",
        "cat_num = ['Hora', 'Ingreso']"
      ],
      "execution_count": 9,
      "outputs": []
    },
    {
      "cell_type": "code",
      "metadata": {
        "colab": {
          "base_uri": "https://localhost:8080/"
        },
        "id": "SjavwD45yJTf",
        "outputId": "991c49a4-4f8b-4d7d-96af-d29ccc71df12"
      },
      "source": [
        "dataset[cat_var].info()"
      ],
      "execution_count": 7,
      "outputs": [
        {
          "output_type": "stream",
          "text": [
            "<class 'pandas.core.frame.DataFrame'>\n",
            "RangeIndex: 900 entries, 0 to 899\n",
            "Data columns (total 3 columns):\n",
            " #   Column  Non-Null Count  Dtype \n",
            "---  ------  --------------  ----- \n",
            " 0   Edad    900 non-null    object\n",
            " 1   Sexo    900 non-null    object\n",
            " 2   Area    900 non-null    object\n",
            "dtypes: object(3)\n",
            "memory usage: 21.2+ KB\n"
          ],
          "name": "stdout"
        }
      ]
    },
    {
      "cell_type": "code",
      "metadata": {
        "colab": {
          "base_uri": "https://localhost:8080/"
        },
        "id": "3KnWyPlbxdbN",
        "outputId": "c17bea67-a2ba-4b7e-c7e4-28394345eb35"
      },
      "source": [
        "data_cat = pd.get_dummies(dataset[cat_var], drop_first=True)\r\n",
        "data_num = dataset[cat_num]\r\n",
        "data = pd.concat([data_cat, data_num], axis=1)\r\n",
        "scl = MinMaxScaler()\r\n",
        "scl.fit(data)\r\n",
        "data = scl.transform(data)\r\n",
        "data.shape, type(data)"
      ],
      "execution_count": 10,
      "outputs": [
        {
          "output_type": "execute_result",
          "data": {
            "text/plain": [
              "((900, 9), numpy.ndarray)"
            ]
          },
          "metadata": {
            "tags": []
          },
          "execution_count": 10
        }
      ]
    },
    {
      "cell_type": "code",
      "metadata": {
        "colab": {
          "base_uri": "https://localhost:8080/"
        },
        "id": "2TibdGZN0-6o",
        "outputId": "1baea7e8-ba00-40d6-adca-44c067e1929d"
      },
      "source": [
        "labels = np.array(pd.factorize(dataset.Violento)[0])\r\n",
        "labels.shape, type(labels)"
      ],
      "execution_count": 11,
      "outputs": [
        {
          "output_type": "execute_result",
          "data": {
            "text/plain": [
              "((900,), numpy.ndarray)"
            ]
          },
          "metadata": {
            "tags": []
          },
          "execution_count": 11
        }
      ]
    },
    {
      "cell_type": "code",
      "metadata": {
        "id": "_KQmGkVdiUnW"
      },
      "source": [
        "X_np = data.astype(np.float32)\n",
        "y_np = labels.reshape(-1, 1).astype(np.float32)\n",
        "#y_np = labels.reshape(-1, 1)"
      ],
      "execution_count": 12,
      "outputs": []
    },
    {
      "cell_type": "code",
      "metadata": {
        "id": "pGUlGFsqhDsx"
      },
      "source": [
        "X = torch.from_numpy(X_np)\n",
        "y = torch.from_numpy(y_np.reshape(-1, 1))"
      ],
      "execution_count": 13,
      "outputs": []
    },
    {
      "cell_type": "code",
      "metadata": {
        "colab": {
          "base_uri": "https://localhost:8080/"
        },
        "id": "6XSjGejFwYup",
        "outputId": "c030aae0-8153-4d6a-f442-08d22c9bce48"
      },
      "source": [
        "X.shape, y.shape"
      ],
      "execution_count": 14,
      "outputs": [
        {
          "output_type": "execute_result",
          "data": {
            "text/plain": [
              "(torch.Size([900, 9]), torch.Size([900, 1]))"
            ]
          },
          "metadata": {
            "tags": []
          },
          "execution_count": 14
        }
      ]
    },
    {
      "cell_type": "code",
      "metadata": {
        "colab": {
          "base_uri": "https://localhost:8080/"
        },
        "id": "jZTLZ3tF4Ufh",
        "outputId": "2314e3ce-8e76-447b-aad2-88c70103adbf"
      },
      "source": [
        "torch.cuda.device_count(), torch.cuda.get_device_name(0)"
      ],
      "execution_count": 15,
      "outputs": [
        {
          "output_type": "execute_result",
          "data": {
            "text/plain": [
              "(1, 'Tesla T4')"
            ]
          },
          "metadata": {
            "tags": []
          },
          "execution_count": 15
        }
      ]
    },
    {
      "cell_type": "code",
      "metadata": {
        "id": "eDvHpU6ypXmN"
      },
      "source": [
        "model = nn.Sequential(\n",
        "  nn.Linear(X.shape[1], X.shape[0]),\n",
        "  nn.ReLU(),\n",
        "  nn.Linear(X.shape[0], 900),\n",
        "  nn.ReLU(),\n",
        "  nn.Linear(900, 500),\n",
        "  nn.ReLU(),\n",
        "  nn.Linear(500, 100),\n",
        "  nn.ReLU(),\n",
        "  nn.Linear(100, 1)\n",
        ")"
      ],
      "execution_count": 16,
      "outputs": []
    },
    {
      "cell_type": "code",
      "metadata": {
        "id": "KbqmryWt5YGB"
      },
      "source": [
        "model.cuda()\r\n",
        "X_g = X.cuda()\r\n",
        "y_g = y.cuda()"
      ],
      "execution_count": 17,
      "outputs": []
    },
    {
      "cell_type": "code",
      "metadata": {
        "id": "jP-F4UDU8j4e"
      },
      "source": [
        "optimizador = torch.optim.SGD(model.parameters(), lr=0.01, momentum=0)\r\n",
        "#criterio = torch.nn.CrossEntropyLoss().cuda()\r\n",
        "criterio = torch.nn.MSELoss()"
      ],
      "execution_count": 18,
      "outputs": []
    },
    {
      "cell_type": "code",
      "metadata": {
        "id": "u_G5cQABQNDz"
      },
      "source": [
        "errores = []"
      ],
      "execution_count": 24,
      "outputs": []
    },
    {
      "cell_type": "code",
      "metadata": {
        "id": "4-TCPnUJqN5s",
        "colab": {
          "base_uri": "https://localhost:8080/"
        },
        "outputId": "1153b34e-47c1-4fdb-db4b-a1653fb01bf6"
      },
      "source": [
        "preds = []\n",
        "for epo in range(50000):\n",
        "  optimizador.zero_grad()\n",
        "  y_pred = model(X_g)\n",
        "  loss = criterio(y_pred, y_g)\n",
        "  loss.backward()\n",
        "  optimizador.step()\n",
        "  if epo % 10000 == 0:\n",
        "    print(epo, loss.item())\n",
        "    errores.append([epo, loss.item()])\n",
        "    pred = y_pred.cpu().detach().numpy()\n",
        "    preds.append(pred)"
      ],
      "execution_count": 25,
      "outputs": [
        {
          "output_type": "stream",
          "text": [
            "0 0.02054191194474697\n",
            "10000 0.02193559892475605\n",
            "20000 0.017569780349731445\n",
            "30000 0.017583943903446198\n",
            "40000 0.02314557507634163\n"
          ],
          "name": "stdout"
        }
      ]
    },
    {
      "cell_type": "code",
      "metadata": {
        "colab": {
          "base_uri": "https://localhost:8080/",
          "height": 614
        },
        "cellView": "form",
        "id": "VbfArALMM7FF",
        "outputId": "f99532e0-a07b-48a5-e7fc-4ded45e7d7fb"
      },
      "source": [
        "#@title Gráfica\r\n",
        "plt.figure(figsize=(10,10), facecolor='lightgray')\r\n",
        "\r\n",
        "plt.plot(y_np, pred, 'bo', ms=8, label='Red Neuronal')\r\n",
        "plt.plot([-1,1], [-1, 1], 'b:', lw=4)\r\n",
        "\r\n",
        "plt.title('Comparación entre Modelos Predictivos', fontsize=20)\r\n",
        "plt.legend(loc='best', fontsize=14)\r\n",
        "plt.text(1,1, 'GestioDinámica 2020')\r\n",
        "plt.show()"
      ],
      "execution_count": 22,
      "outputs": [
        {
          "output_type": "display_data",
          "data": {
            "image/png": "[encoded data removed]",
            "text/plain": [
              "<Figure size 720x720 with 1 Axes>"
            ]
          },
          "metadata": {
            "tags": []
          }
        }
      ]
    },
    {
      "cell_type": "code",
      "metadata": {
        "id": "36yHZzEROsDq",
        "colab": {
          "base_uri": "https://localhost:8080/"
        },
        "outputId": "cd895d0c-fd59-4eaf-9c6c-44a05be7863e"
      },
      "source": [
        "from sklearn.linear_model import LinearRegression\n",
        "from sklearn.naive_bayes import GaussianNB\n",
        "from sklearn.linear_model import LogisticRegression\n",
        "lr = LogisticRegression()\n",
        "mlm = lr.fit(X_np, y_np)\n",
        "nb = GaussianNB()\n",
        "mnb = nb.fit(X_np, y_np)\n",
        "pred_lm = mlm.predict(X_np)\n",
        "pred_nb = mnb.predict(X_np)\n",
        "len(X_np), len(pred_lm)"
      ],
      "execution_count": 34,
      "outputs": [
        {
          "output_type": "stream",
          "text": [
            "/usr/local/lib/python3.6/dist-packages/sklearn/utils/validation.py:760: DataConversionWarning: A column-vector y was passed when a 1d array was expected. Please change the shape of y to (n_samples, ), for example using ravel().\n",
            "  y = column_or_1d(y, warn=True)\n",
            "/usr/local/lib/python3.6/dist-packages/sklearn/naive_bayes.py:206: DataConversionWarning: A column-vector y was passed when a 1d array was expected. Please change the shape of y to (n_samples, ), for example using ravel().\n",
            "  y = column_or_1d(y, warn=True)\n"
          ],
          "name": "stderr"
        },
        {
          "output_type": "execute_result",
          "data": {
            "text/plain": [
              "(900, 900)"
            ]
          },
          "metadata": {
            "tags": []
          },
          "execution_count": 34
        }
      ]
    },
    {
      "cell_type": "code",
      "metadata": {
        "id": "c4zPyndzQLdO",
        "colab": {
          "base_uri": "https://localhost:8080/",
          "height": 614
        },
        "outputId": "37e50889-6f50-4db0-bc6e-b8ae30f036af"
      },
      "source": [
        "#@title Gráfica\n",
        "plt.figure(figsize=(10,10), facecolor='lightgray')\n",
        "\n",
        "plt.plot(y_np, pred, 'bo', ms=8, label='Red Neuronal')\n",
        "plt.plot(y_np, pred_nb, 'go', ms=8, label='Naive Bayes')\n",
        "plt.plot(y_np, pred_lm, 'ro', ms=8, label='Regresión Logística')\n",
        "plt.plot([-1,1], [-1, 1], 'b:', lw=4)\n",
        "\n",
        "plt.title('Comparación entre Modelos Predictivos', fontsize=20)\n",
        "plt.legend(loc='best', fontsize=14)\n",
        "plt.text(1,1, 'GestioDinámica 2020')\n",
        "plt.show()"
      ],
      "execution_count": 37,
      "outputs": [
        {
          "output_type": "display_data",
          "data": {
            "image/png": "[encoded data removed]",
            "text/plain": [
              "<Figure size 720x720 with 1 Axes>"
            ]
          },
          "metadata": {
            "tags": []
          }
        }
      ]
    },
    {
      "cell_type": "code",
      "metadata": {
        "id": "ljenPE0Oz-o2"
      },
      "source": [
        "data_test = X[0:10].cuda()"
      ],
      "execution_count": 41,
      "outputs": []
    },
    {
      "cell_type": "code",
      "metadata": {
        "colab": {
          "base_uri": "https://localhost:8080/"
        },
        "id": "Ei1X2idE0hTA",
        "outputId": "bac32d55-8955-4eab-efd1-4af5552a537b"
      },
      "source": [
        "model(data_test)"
      ],
      "execution_count": 42,
      "outputs": [
        {
          "output_type": "execute_result",
          "data": {
            "text/plain": [
              "tensor([[0.0118],\n",
              "        [0.0022],\n",
              "        [0.0109],\n",
              "        [0.0042],\n",
              "        [1.0242],\n",
              "        [0.0139],\n",
              "        [1.0227],\n",
              "        [0.0019],\n",
              "        [1.0265],\n",
              "        [0.0090]], device='cuda:0', grad_fn=<AddmmBackward>)"
            ]
          },
          "metadata": {
            "tags": []
          },
          "execution_count": 42
        }
      ]
    },
    {
      "cell_type": "code",
      "metadata": {
        "colab": {
          "base_uri": "https://localhost:8080/",
          "height": 203
        },
        "id": "2NGpsB6Z0yfP",
        "outputId": "717103fb-bc0b-4f0f-d1ca-dcd5fb452865"
      },
      "source": [
        "#print(pred[0:10])\r\n",
        "indices = [i for i in range(len(pred)) if pred[i] > 0.75]\r\n",
        "len(indices)"
      ],
      "execution_count": 7,
      "outputs": [
        {
          "output_type": "error",
          "ename": "NameError",
          "evalue": "ignored",
          "traceback": [
            "\u001b[0;31m---------------------------------------------------------------------------\u001b[0m",
            "\u001b[0;31mNameError\u001b[0m                                 Traceback (most recent call last)",
            "\u001b[0;32m<ipython-input-7-7fd5c3a8bc9b>\u001b[0m in \u001b[0;36m<module>\u001b[0;34m()\u001b[0m\n\u001b[1;32m      1\u001b[0m \u001b[0;31m#print(pred[0:10])\u001b[0m\u001b[0;34m\u001b[0m\u001b[0;34m\u001b[0m\u001b[0;34m\u001b[0m\u001b[0m\n\u001b[0;32m----> 2\u001b[0;31m \u001b[0mindices\u001b[0m \u001b[0;34m=\u001b[0m \u001b[0;34m[\u001b[0m\u001b[0mi\u001b[0m \u001b[0;32mfor\u001b[0m \u001b[0mi\u001b[0m \u001b[0;32min\u001b[0m \u001b[0mrange\u001b[0m\u001b[0;34m(\u001b[0m\u001b[0mlen\u001b[0m\u001b[0;34m(\u001b[0m\u001b[0mpred\u001b[0m\u001b[0;34m)\u001b[0m\u001b[0;34m)\u001b[0m \u001b[0;32mif\u001b[0m \u001b[0mpred\u001b[0m\u001b[0;34m[\u001b[0m\u001b[0mi\u001b[0m\u001b[0;34m]\u001b[0m \u001b[0;34m>\u001b[0m \u001b[0;36m0.75\u001b[0m\u001b[0;34m]\u001b[0m\u001b[0;34m\u001b[0m\u001b[0;34m\u001b[0m\u001b[0m\n\u001b[0m\u001b[1;32m      3\u001b[0m \u001b[0mlen\u001b[0m\u001b[0;34m(\u001b[0m\u001b[0mindices\u001b[0m\u001b[0;34m)\u001b[0m\u001b[0;34m\u001b[0m\u001b[0;34m\u001b[0m\u001b[0m\n",
            "\u001b[0;31mNameError\u001b[0m: name 'pred' is not defined"
          ]
        }
      ]
    },
    {
      "cell_type": "code",
      "metadata": {
        "colab": {
          "base_uri": "https://localhost:8080/",
          "height": 185
        },
        "id": "J7bW5CCC2R3P",
        "outputId": "3edfdcc1-737f-485d-fead-3d1e6e8c50ea"
      },
      "source": [
        "data_10 = dataset.iloc[indices,:]\r\n",
        "data_10.head()"
      ],
      "execution_count": 6,
      "outputs": [
        {
          "output_type": "error",
          "ename": "NameError",
          "evalue": "ignored",
          "traceback": [
            "\u001b[0;31m---------------------------------------------------------------------------\u001b[0m",
            "\u001b[0;31mNameError\u001b[0m                                 Traceback (most recent call last)",
            "\u001b[0;32m<ipython-input-6-0dd97355a6b2>\u001b[0m in \u001b[0;36m<module>\u001b[0;34m()\u001b[0m\n\u001b[0;32m----> 1\u001b[0;31m \u001b[0mdata_10\u001b[0m \u001b[0;34m=\u001b[0m \u001b[0mdataset\u001b[0m\u001b[0;34m.\u001b[0m\u001b[0miloc\u001b[0m\u001b[0;34m[\u001b[0m\u001b[0mindices\u001b[0m\u001b[0;34m,\u001b[0m\u001b[0;34m:\u001b[0m\u001b[0;34m]\u001b[0m\u001b[0;34m\u001b[0m\u001b[0;34m\u001b[0m\u001b[0m\n\u001b[0m\u001b[1;32m      2\u001b[0m \u001b[0mdata_10\u001b[0m\u001b[0;34m.\u001b[0m\u001b[0mhead\u001b[0m\u001b[0;34m(\u001b[0m\u001b[0;34m)\u001b[0m\u001b[0;34m\u001b[0m\u001b[0;34m\u001b[0m\u001b[0m\n",
            "\u001b[0;31mNameError\u001b[0m: name 'indices' is not defined"
          ]
        }
      ]
    },
    {
      "cell_type": "code",
      "metadata": {
        "colab": {
          "base_uri": "https://localhost:8080/",
          "height": 167
        },
        "id": "4wbbjewa2v1f",
        "outputId": "d963c89f-e891-4423-ab05-f983156969fa"
      },
      "source": [
        "pd.plotting.parallel_coordinates(data_10)"
      ],
      "execution_count": 55,
      "outputs": [
        {
          "output_type": "error",
          "ename": "TypeError",
          "evalue": "ignored",
          "traceback": [
            "\u001b[0;31m---------------------------------------------------------------------------\u001b[0m",
            "\u001b[0;31mTypeError\u001b[0m                                 Traceback (most recent call last)",
            "\u001b[0;32m<ipython-input-55-97ded4d910cc>\u001b[0m in \u001b[0;36m<module>\u001b[0;34m()\u001b[0m\n\u001b[0;32m----> 1\u001b[0;31m \u001b[0mpd\u001b[0m\u001b[0;34m.\u001b[0m\u001b[0mplotting\u001b[0m\u001b[0;34m.\u001b[0m\u001b[0mparallel_coordinates\u001b[0m\u001b[0;34m(\u001b[0m\u001b[0mdata_10\u001b[0m\u001b[0;34m)\u001b[0m\u001b[0;34m\u001b[0m\u001b[0;34m\u001b[0m\u001b[0m\n\u001b[0m",
            "\u001b[0;31mTypeError\u001b[0m: parallel_coordinates() missing 1 required positional argument: 'class_column'"
          ]
        }
      ]
    },
    {
      "cell_type": "markdown",
      "metadata": {
        "id": "iYOmsiqS_zoV"
      },
      "source": [
        "### Referencias\n",
        "https://medium.com/@benjamin.phillips22/simple-regression-with-neural-networks-in-pytorch-313f06910379\n"
      ]
    }
  ]
}